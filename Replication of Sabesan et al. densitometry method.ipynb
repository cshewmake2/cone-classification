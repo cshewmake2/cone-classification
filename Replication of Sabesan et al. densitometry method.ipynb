{
 "cells": [
  {
   "cell_type": "markdown",
   "metadata": {},
   "source": [
    "## Goal: Replicate the results of Sabesan et al. method for classifying cones\n",
    "\n",
    "* They used $543$ and $842nm$ light. \n",
    "* $842nm$ used for wavefront correction\n",
    "\n",
    "### Methods\n",
    "* Subjects dark adapted for 5 minutes to get to >90% maximum density\n",
    "* Two different protocols for classifying S- and L/M-type cones. \n",
    "\n",
    "#### Start with S-type classification\n",
    "* Separated by simultaneous photopigment bleaching and AO-corrected imaging at 543 nm wave- length, immediately following dark adaptation\n",
    "\n",
    "#### L/M-type classification\n",
    "* To distinguish between L & M cones, a sep- arate partial and selective bleaching step was added between dark adaptation and imaging. This was performed to prepare the L and M cones in a state which elicits the maximum difference in their absorptance prior to bleaching and imaging with 543 nm wavelength. \n",
    "* Two such selective bleaches were used: a 680 nm wavelength was used to selectively bleach the L cones more (~15x) than M cones\n",
    "* 470 nm wavelength was used to selectively bleach the M cones more (~1.8x) than L cones. \n",
    "* With either wavelength, however, L and M photopigments are bleached simultaneously, albeit differentially, necessitating a careful selection of optimum bleaching doses"
   ]
  },
  {
   "cell_type": "code",
   "execution_count": 1,
   "metadata": {},
   "outputs": [],
   "source": [
    "import numpy as np\n",
    "import pycone as pyc"
   ]
  },
  {
   "cell_type": "code",
   "execution_count": null,
   "metadata": {},
   "outputs": [],
   "source": [
    "## Constants\n",
    "Qe = 3e6\n"
   ]
  }
 ],
 "metadata": {
  "kernelspec": {
   "display_name": "Python 3",
   "language": "python",
   "name": "python3"
  },
  "language_info": {
   "codemirror_mode": {
    "name": "ipython",
    "version": 3
   },
   "file_extension": ".py",
   "mimetype": "text/x-python",
   "name": "python",
   "nbconvert_exporter": "python",
   "pygments_lexer": "ipython3",
   "version": "3.7.8"
  }
 },
 "nbformat": 4,
 "nbformat_minor": 4
}
